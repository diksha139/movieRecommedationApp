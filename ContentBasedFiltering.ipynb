{
  "nbformat": 4,
  "nbformat_minor": 0,
  "metadata": {
    "colab": {
      "provenance": [],
      "include_colab_link": true
    },
    "kernelspec": {
      "name": "python3",
      "display_name": "Python 3"
    },
    "language_info": {
      "name": "python"
    }
  },
  "cells": [
    {
      "cell_type": "markdown",
      "metadata": {
        "id": "view-in-github",
        "colab_type": "text"
      },
      "source": [
        "<a href=\"https://colab.research.google.com/github/diksha139/movieRecommedationApp/blob/main/ContentBasedFiltering.ipynb\" target=\"_parent\"><img src=\"https://colab.research.google.com/assets/colab-badge.svg\" alt=\"Open In Colab\"/></a>"
      ]
    },
    {
      "cell_type": "code",
      "source": [
        "!git clone https://github.com/procodingclass/kaggle-movie-data-.git"
      ],
      "metadata": {
        "id": "CdBwTMg4qhDW",
        "colab": {
          "base_uri": "https://localhost:8080/"
        },
        "outputId": "14f3241b-3b4b-4c66-8a82-baec0ab1ebda"
      },
      "execution_count": 2,
      "outputs": [
        {
          "output_type": "stream",
          "name": "stdout",
          "text": [
            "Cloning into 'kaggle-movie-data-'...\n",
            "remote: Enumerating objects: 7, done.\u001b[K\n",
            "remote: Counting objects: 100% (7/7), done.\u001b[K\n",
            "remote: Compressing objects: 100% (5/5), done.\u001b[K\n",
            "remote: Total 7 (delta 0), reused 4 (delta 0), pack-reused 0\u001b[K\n",
            "Unpacking objects: 100% (7/7), done.\n"
          ]
        }
      ]
    },
    {
      "cell_type": "code",
      "source": [
        "import pandas as pd\n",
        "import numpy as np\n",
        "movies_df = pd.read_csv('/content/kaggle-movie-data-/tmdb_5000_movies.csv')\n",
        "credits_df = pd.read_csv('/content/kaggle-movie-data-/tmdb_5000_credits.csv')"
      ],
      "metadata": {
        "id": "PapveunsqkoN"
      },
      "execution_count": 3,
      "outputs": []
    },
    {
      "cell_type": "code",
      "source": [
        "credits_df.rename(columns = {'movie_id' : 'id'} , inplace = True)"
      ],
      "metadata": {
        "id": "ALGyp80Vr8t_"
      },
      "execution_count": 4,
      "outputs": []
    },
    {
      "cell_type": "code",
      "source": [
        "movies_df.info()"
      ],
      "metadata": {
        "colab": {
          "base_uri": "https://localhost:8080/"
        },
        "id": "F918V6pyDdxP",
        "outputId": "3b45033f-dfa0-417c-8423-874993e10d99"
      },
      "execution_count": 5,
      "outputs": [
        {
          "output_type": "stream",
          "name": "stdout",
          "text": [
            "<class 'pandas.core.frame.DataFrame'>\n",
            "RangeIndex: 4803 entries, 0 to 4802\n",
            "Data columns (total 20 columns):\n",
            " #   Column                Non-Null Count  Dtype  \n",
            "---  ------                --------------  -----  \n",
            " 0   budget                4803 non-null   int64  \n",
            " 1   genres                4803 non-null   object \n",
            " 2   homepage              1712 non-null   object \n",
            " 3   id                    4803 non-null   int64  \n",
            " 4   keywords              4803 non-null   object \n",
            " 5   original_language     4803 non-null   object \n",
            " 6   original_title        4803 non-null   object \n",
            " 7   overview              4799 non-null   object \n",
            " 8   popularity            4803 non-null   float64\n",
            " 9   production_companies  4803 non-null   object \n",
            " 10  production_countries  4803 non-null   object \n",
            " 11  release_date          4802 non-null   object \n",
            " 12  revenue               4803 non-null   int64  \n",
            " 13  runtime               4801 non-null   float64\n",
            " 14  spoken_languages      4803 non-null   object \n",
            " 15  status                4803 non-null   object \n",
            " 16  tagline               3959 non-null   object \n",
            " 17  title                 4803 non-null   object \n",
            " 18  vote_average          4803 non-null   float64\n",
            " 19  vote_count            4803 non-null   int64  \n",
            "dtypes: float64(3), int64(4), object(13)\n",
            "memory usage: 750.6+ KB\n"
          ]
        }
      ]
    },
    {
      "cell_type": "code",
      "source": [
        "credits_df.info()"
      ],
      "metadata": {
        "colab": {
          "base_uri": "https://localhost:8080/"
        },
        "id": "xH8MAPrKDgNN",
        "outputId": "e811ff5f-360f-479c-a0c0-3c7f878636f4"
      },
      "execution_count": 6,
      "outputs": [
        {
          "output_type": "stream",
          "name": "stdout",
          "text": [
            "<class 'pandas.core.frame.DataFrame'>\n",
            "RangeIndex: 4803 entries, 0 to 4802\n",
            "Data columns (total 4 columns):\n",
            " #   Column  Non-Null Count  Dtype \n",
            "---  ------  --------------  ----- \n",
            " 0   id      4803 non-null   int64 \n",
            " 1   title   4803 non-null   object\n",
            " 2   cast    4803 non-null   object\n",
            " 3   crew    4802 non-null   object\n",
            "dtypes: int64(1), object(3)\n",
            "memory usage: 150.2+ KB\n"
          ]
        }
      ]
    },
    {
      "cell_type": "code",
      "source": [
        "common_df = pd.merge(movies_df , credits_df , on = 'id')"
      ],
      "metadata": {
        "id": "hoPUTB6osHs7"
      },
      "execution_count": 7,
      "outputs": []
    },
    {
      "cell_type": "code",
      "source": [
        "common_df.drop(['homepage', 'title_x', 'title_y', 'production_companies'] , axis = 1 , inplace = True)\n",
        "common_df.dropna(inplace = True)\n",
        "common_df.info()"
      ],
      "metadata": {
        "colab": {
          "base_uri": "https://localhost:8080/"
        },
        "id": "aOVq20waCtd4",
        "outputId": "dc01358a-916c-4076-dd4d-722bdf8c12a3"
      },
      "execution_count": 8,
      "outputs": [
        {
          "output_type": "stream",
          "name": "stdout",
          "text": [
            "<class 'pandas.core.frame.DataFrame'>\n",
            "Int64Index: 3958 entries, 0 to 4801\n",
            "Data columns (total 19 columns):\n",
            " #   Column                Non-Null Count  Dtype  \n",
            "---  ------                --------------  -----  \n",
            " 0   budget                3958 non-null   int64  \n",
            " 1   genres                3958 non-null   object \n",
            " 2   id                    3958 non-null   int64  \n",
            " 3   keywords              3958 non-null   object \n",
            " 4   original_language     3958 non-null   object \n",
            " 5   original_title        3958 non-null   object \n",
            " 6   overview              3958 non-null   object \n",
            " 7   popularity            3958 non-null   float64\n",
            " 8   production_countries  3958 non-null   object \n",
            " 9   release_date          3958 non-null   object \n",
            " 10  revenue               3958 non-null   int64  \n",
            " 11  runtime               3958 non-null   float64\n",
            " 12  spoken_languages      3958 non-null   object \n",
            " 13  status                3958 non-null   object \n",
            " 14  tagline               3958 non-null   object \n",
            " 15  vote_average          3958 non-null   float64\n",
            " 16  vote_count            3958 non-null   int64  \n",
            " 17  cast                  3958 non-null   object \n",
            " 18  crew                  3958 non-null   object \n",
            "dtypes: float64(3), int64(4), object(12)\n",
            "memory usage: 618.4+ KB\n"
          ]
        }
      ]
    },
    {
      "cell_type": "code",
      "source": [
        "# calculating weighted_rating\n",
        "R = common_df['vote_average']\n",
        "v = common_df['vote_count']\n",
        "C = common_df['vote_average'].mean()\n",
        "print(C)\n",
        "m = common_df['vote_count'].quantile(0.9)\n",
        "print(m)\n",
        "common_df['weighted_rating'] = (R*v + C*m) / (v + m)"
      ],
      "metadata": {
        "colab": {
          "base_uri": "https://localhost:8080/"
        },
        "id": "q_3bx-PvdYN1",
        "outputId": "126d89c2-2d00-4baa-b4e0-f26ba10bf955"
      },
      "execution_count": 9,
      "outputs": [
        {
          "output_type": "stream",
          "name": "stdout",
          "text": [
            "6.181859525012634\n",
            "2101.2000000000007\n"
          ]
        }
      ]
    },
    {
      "cell_type": "code",
      "source": [
        "common_df[['cast','genres','keywords']].head(1)\n",
        "\n"
      ],
      "metadata": {
        "colab": {
          "base_uri": "https://localhost:8080/",
          "height": 81
        },
        "id": "gOlA1KbjK-3J",
        "outputId": "1946fdc3-ba12-4054-f93d-67955bc3969a"
      },
      "execution_count": 10,
      "outputs": [
        {
          "output_type": "execute_result",
          "data": {
            "text/plain": [
              "                                                cast  \\\n",
              "0  [{\"cast_id\": 242, \"character\": \"Jake Sully\", \"...   \n",
              "\n",
              "                                              genres  \\\n",
              "0  [{\"id\": 28, \"name\": \"Action\"}, {\"id\": 12, \"nam...   \n",
              "\n",
              "                                            keywords  \n",
              "0  [{\"id\": 1463, \"name\": \"culture clash\"}, {\"id\":...  "
            ],
            "text/html": [
              "\n",
              "  <div id=\"df-6767a4e1-f588-4818-873b-c570b5cf0e6d\">\n",
              "    <div class=\"colab-df-container\">\n",
              "      <div>\n",
              "<style scoped>\n",
              "    .dataframe tbody tr th:only-of-type {\n",
              "        vertical-align: middle;\n",
              "    }\n",
              "\n",
              "    .dataframe tbody tr th {\n",
              "        vertical-align: top;\n",
              "    }\n",
              "\n",
              "    .dataframe thead th {\n",
              "        text-align: right;\n",
              "    }\n",
              "</style>\n",
              "<table border=\"1\" class=\"dataframe\">\n",
              "  <thead>\n",
              "    <tr style=\"text-align: right;\">\n",
              "      <th></th>\n",
              "      <th>cast</th>\n",
              "      <th>genres</th>\n",
              "      <th>keywords</th>\n",
              "    </tr>\n",
              "  </thead>\n",
              "  <tbody>\n",
              "    <tr>\n",
              "      <th>0</th>\n",
              "      <td>[{\"cast_id\": 242, \"character\": \"Jake Sully\", \"...</td>\n",
              "      <td>[{\"id\": 28, \"name\": \"Action\"}, {\"id\": 12, \"nam...</td>\n",
              "      <td>[{\"id\": 1463, \"name\": \"culture clash\"}, {\"id\":...</td>\n",
              "    </tr>\n",
              "  </tbody>\n",
              "</table>\n",
              "</div>\n",
              "      <button class=\"colab-df-convert\" onclick=\"convertToInteractive('df-6767a4e1-f588-4818-873b-c570b5cf0e6d')\"\n",
              "              title=\"Convert this dataframe to an interactive table.\"\n",
              "              style=\"display:none;\">\n",
              "        \n",
              "  <svg xmlns=\"http://www.w3.org/2000/svg\" height=\"24px\"viewBox=\"0 0 24 24\"\n",
              "       width=\"24px\">\n",
              "    <path d=\"M0 0h24v24H0V0z\" fill=\"none\"/>\n",
              "    <path d=\"M18.56 5.44l.94 2.06.94-2.06 2.06-.94-2.06-.94-.94-2.06-.94 2.06-2.06.94zm-11 1L8.5 8.5l.94-2.06 2.06-.94-2.06-.94L8.5 2.5l-.94 2.06-2.06.94zm10 10l.94 2.06.94-2.06 2.06-.94-2.06-.94-.94-2.06-.94 2.06-2.06.94z\"/><path d=\"M17.41 7.96l-1.37-1.37c-.4-.4-.92-.59-1.43-.59-.52 0-1.04.2-1.43.59L10.3 9.45l-7.72 7.72c-.78.78-.78 2.05 0 2.83L4 21.41c.39.39.9.59 1.41.59.51 0 1.02-.2 1.41-.59l7.78-7.78 2.81-2.81c.8-.78.8-2.07 0-2.86zM5.41 20L4 18.59l7.72-7.72 1.47 1.35L5.41 20z\"/>\n",
              "  </svg>\n",
              "      </button>\n",
              "      \n",
              "  <style>\n",
              "    .colab-df-container {\n",
              "      display:flex;\n",
              "      flex-wrap:wrap;\n",
              "      gap: 12px;\n",
              "    }\n",
              "\n",
              "    .colab-df-convert {\n",
              "      background-color: #E8F0FE;\n",
              "      border: none;\n",
              "      border-radius: 50%;\n",
              "      cursor: pointer;\n",
              "      display: none;\n",
              "      fill: #1967D2;\n",
              "      height: 32px;\n",
              "      padding: 0 0 0 0;\n",
              "      width: 32px;\n",
              "    }\n",
              "\n",
              "    .colab-df-convert:hover {\n",
              "      background-color: #E2EBFA;\n",
              "      box-shadow: 0px 1px 2px rgba(60, 64, 67, 0.3), 0px 1px 3px 1px rgba(60, 64, 67, 0.15);\n",
              "      fill: #174EA6;\n",
              "    }\n",
              "\n",
              "    [theme=dark] .colab-df-convert {\n",
              "      background-color: #3B4455;\n",
              "      fill: #D2E3FC;\n",
              "    }\n",
              "\n",
              "    [theme=dark] .colab-df-convert:hover {\n",
              "      background-color: #434B5C;\n",
              "      box-shadow: 0px 1px 3px 1px rgba(0, 0, 0, 0.15);\n",
              "      filter: drop-shadow(0px 1px 2px rgba(0, 0, 0, 0.3));\n",
              "      fill: #FFFFFF;\n",
              "    }\n",
              "  </style>\n",
              "\n",
              "      <script>\n",
              "        const buttonEl =\n",
              "          document.querySelector('#df-6767a4e1-f588-4818-873b-c570b5cf0e6d button.colab-df-convert');\n",
              "        buttonEl.style.display =\n",
              "          google.colab.kernel.accessAllowed ? 'block' : 'none';\n",
              "\n",
              "        async function convertToInteractive(key) {\n",
              "          const element = document.querySelector('#df-6767a4e1-f588-4818-873b-c570b5cf0e6d');\n",
              "          const dataTable =\n",
              "            await google.colab.kernel.invokeFunction('convertToInteractive',\n",
              "                                                     [key], {});\n",
              "          if (!dataTable) return;\n",
              "\n",
              "          const docLinkHtml = 'Like what you see? Visit the ' +\n",
              "            '<a target=\"_blank\" href=https://colab.research.google.com/notebooks/data_table.ipynb>data table notebook</a>'\n",
              "            + ' to learn more about interactive tables.';\n",
              "          element.innerHTML = '';\n",
              "          dataTable['output_type'] = 'display_data';\n",
              "          await google.colab.output.renderOutput(dataTable, element);\n",
              "          const docLink = document.createElement('div');\n",
              "          docLink.innerHTML = docLinkHtml;\n",
              "          element.appendChild(docLink);\n",
              "        }\n",
              "      </script>\n",
              "    </div>\n",
              "  </div>\n",
              "  "
            ]
          },
          "metadata": {},
          "execution_count": 10
        }
      ]
    },
    {
      "cell_type": "code",
      "source": [
        "common_df.loc[0].at['keywords']"
      ],
      "metadata": {
        "id": "ViXTgBWMQAAs",
        "colab": {
          "base_uri": "https://localhost:8080/"
        },
        "outputId": "293310b5-64ce-4f0b-8c51-44e0f2b75f89"
      },
      "execution_count": 20,
      "outputs": [
        {
          "output_type": "execute_result",
          "data": {
            "text/plain": [
              "['cultureclash',\n",
              " 'future',\n",
              " 'spacewar',\n",
              " 'spacecolony',\n",
              " 'society',\n",
              " 'spacetravel',\n",
              " 'futuristic',\n",
              " 'romance',\n",
              " 'space',\n",
              " 'alien',\n",
              " 'tribe',\n",
              " 'alienplanet',\n",
              " 'cgi',\n",
              " 'marine',\n",
              " 'soldier',\n",
              " 'battle',\n",
              " 'loveaffair',\n",
              " 'antiwar',\n",
              " 'powerrelations',\n",
              " 'mindandsoul',\n",
              " '3d']"
            ]
          },
          "metadata": {},
          "execution_count": 20
        }
      ]
    },
    {
      "cell_type": "code",
      "source": [
        "from ast import literal_eval\n",
        "\n",
        "features = ['cast' , 'crew', 'keywords', 'genres']\n",
        "for feature in features:\n",
        "  common_df[feature] = common_df[feature].apply(literal_eval)"
      ],
      "metadata": {
        "id": "2C-2JN_YGgpj"
      },
      "execution_count": 12,
      "outputs": []
    },
    {
      "cell_type": "code",
      "source": [
        "def get_director(crew):\n",
        "  for crew_member in crew:\n",
        "    if crew_member['job']  ==  'Director':\n",
        "      return crew_member['name']\n",
        "    \n",
        "  return np.nan\n",
        "\n",
        "common_df['director'] = common_df['crew'].apply(get_director)"
      ],
      "metadata": {
        "id": "zOzbwwHtGlNo"
      },
      "execution_count": 13,
      "outputs": []
    },
    {
      "cell_type": "code",
      "source": [
        "def get_name_list(column_value):\n",
        "  names_list = []\n",
        "  if isinstance(column_value , list):\n",
        "    for element in column_value:\n",
        "      names_list.append(element['name'])\n",
        "\n",
        "  return names_list\n",
        "\n",
        "features = ['cast' , 'keywords' , 'genres']\n",
        "for feature in features:\n",
        "  common_df[feature] = common_df[feature].apply(get_name_list)"
      ],
      "metadata": {
        "id": "OnakxNU2Go-a"
      },
      "execution_count": 14,
      "outputs": []
    },
    {
      "cell_type": "code",
      "source": [],
      "metadata": {
        "id": "Jt2OklrGwTre"
      },
      "execution_count": null,
      "outputs": []
    },
    {
      "cell_type": "code",
      "source": [
        "def clean_data(column_value):\n",
        "  modified_list = []\n",
        "  modified_string = \"\"\n",
        "  if isinstance(column_value , list):\n",
        "    for element in column_value:\n",
        "      modified_string = element.replace(\" \" , \"\")\n",
        "      modified_list.append(modified_string.lower())\n",
        "\n",
        "    return modified_list\n",
        "\n",
        "  elif isinstance(column_value , str):\n",
        "    modified_string = column_value.replace(\" \" , \"\")\n",
        "    return modified_string.lower()\n",
        "\n",
        "  else:\n",
        "    return ''\n",
        "\n",
        "features = ['cast' , 'keywords' , 'genres' , 'director']\n",
        "for feature in features:\n",
        "  common_df[feature] = common_df[feature].apply(clean_data)"
      ],
      "metadata": {
        "id": "rfcngy28GtV8"
      },
      "execution_count": 15,
      "outputs": []
    },
    {
      "cell_type": "code",
      "source": [
        "l1=['a','b','c']\n",
        "\"$\".join(l1)"
      ],
      "metadata": {
        "colab": {
          "base_uri": "https://localhost:8080/",
          "height": 36
        },
        "id": "GJmp_-tG1QG_",
        "outputId": "fdef55b2-06f1-4b3a-bb9c-e8ceab22741b"
      },
      "execution_count": 22,
      "outputs": [
        {
          "output_type": "execute_result",
          "data": {
            "text/plain": [
              "'a$b$c'"
            ],
            "application/vnd.google.colaboratory.intrinsic+json": {
              "type": "string"
            }
          },
          "metadata": {},
          "execution_count": 22
        }
      ]
    },
    {
      "cell_type": "code",
      "source": [
        "def create_soup(x):\n",
        "   return ' '.join(x['keywords']) + ' ' + ' '.join(x['cast']) + ' ' + x['director'] + ' ' + ' '.join(x['genres'])\n",
        "common_df['soup'] = common_df.apply(create_soup, axis=1)"
      ],
      "metadata": {
        "id": "wjVZl-cPGwaK"
      },
      "execution_count": 16,
      "outputs": []
    },
    {
      "cell_type": "code",
      "source": [
        "# resetting index\n",
        "common_df = common_df.reset_index()\n",
        "indices = pd.Series(common_df.index, index=common_df['original_title'])"
      ],
      "metadata": {
        "id": "eh-z5ExwHP0y"
      },
      "execution_count": 17,
      "outputs": []
    },
    {
      "cell_type": "code",
      "source": [
        "# converting dataframe to csv\n",
        "common_df.to_csv('movies.csv')"
      ],
      "metadata": {
        "id": "MXwqme8F2vcw"
      },
      "execution_count": 18,
      "outputs": []
    },
    {
      "cell_type": "code",
      "source": [
        "# downloading file\n",
        "from google.colab import files\n",
        "files.download('movies.csv')"
      ],
      "metadata": {
        "id": "mxz7xLLrsX-b",
        "colab": {
          "base_uri": "https://localhost:8080/",
          "height": 17
        },
        "outputId": "19ca312f-9dfb-40b9-bd71-2482ce1e6a59"
      },
      "execution_count": 23,
      "outputs": [
        {
          "output_type": "display_data",
          "data": {
            "text/plain": [
              "<IPython.core.display.Javascript object>"
            ],
            "application/javascript": [
              "\n",
              "    async function download(id, filename, size) {\n",
              "      if (!google.colab.kernel.accessAllowed) {\n",
              "        return;\n",
              "      }\n",
              "      const div = document.createElement('div');\n",
              "      const label = document.createElement('label');\n",
              "      label.textContent = `Downloading \"${filename}\": `;\n",
              "      div.appendChild(label);\n",
              "      const progress = document.createElement('progress');\n",
              "      progress.max = size;\n",
              "      div.appendChild(progress);\n",
              "      document.body.appendChild(div);\n",
              "\n",
              "      const buffers = [];\n",
              "      let downloaded = 0;\n",
              "\n",
              "      const channel = await google.colab.kernel.comms.open(id);\n",
              "      // Send a message to notify the kernel that we're ready.\n",
              "      channel.send({})\n",
              "\n",
              "      for await (const message of channel.messages) {\n",
              "        // Send a message to notify the kernel that we're ready.\n",
              "        channel.send({})\n",
              "        if (message.buffers) {\n",
              "          for (const buffer of message.buffers) {\n",
              "            buffers.push(buffer);\n",
              "            downloaded += buffer.byteLength;\n",
              "            progress.value = downloaded;\n",
              "          }\n",
              "        }\n",
              "      }\n",
              "      const blob = new Blob(buffers, {type: 'application/binary'});\n",
              "      const a = document.createElement('a');\n",
              "      a.href = window.URL.createObjectURL(blob);\n",
              "      a.download = filename;\n",
              "      div.appendChild(a);\n",
              "      a.click();\n",
              "      div.remove();\n",
              "    }\n",
              "  "
            ]
          },
          "metadata": {}
        },
        {
          "output_type": "display_data",
          "data": {
            "text/plain": [
              "<IPython.core.display.Javascript object>"
            ],
            "application/javascript": [
              "download(\"download_1f9f08b6-db9e-4809-9f3d-678b27404f5c\", \"movies.csv\", 23831755)"
            ]
          },
          "metadata": {}
        }
      ]
    }
  ]
}